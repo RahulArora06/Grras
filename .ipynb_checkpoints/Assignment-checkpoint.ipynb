{
 "cells": [
  {
   "cell_type": "markdown",
   "metadata": {},
   "source": [
    "# print hello world"
   ]
  },
  {
   "cell_type": "code",
   "execution_count": 1,
   "metadata": {},
   "outputs": [
    {
     "name": "stdout",
     "output_type": "stream",
     "text": [
      "hello world\n"
     ]
    }
   ],
   "source": [
    "print(\"hello world\")"
   ]
  },
  {
   "cell_type": "code",
   "execution_count": 2,
   "metadata": {},
   "outputs": [
    {
     "name": "stdout",
     "output_type": "stream",
     "text": [
      "enter first number45\n",
      "enter second number55\n",
      "100\n"
     ]
    }
   ],
   "source": [
    "#Addition of two number\n",
    "num1=int(input(\"enter first number\"))\n",
    "num2=int(input(\"enter second number\"))\n",
    "sum=num1+num2\n",
    "print(sum)"
   ]
  },
  {
   "cell_type": "code",
   "execution_count": 5,
   "metadata": {},
   "outputs": [
    {
     "name": "stdout",
     "output_type": "stream",
     "text": [
      "enter a number to find square root9\n",
      "sqare root of 9 is 3.0\n"
     ]
    }
   ],
   "source": [
    "#Program to find square root\n",
    "import math\n",
    "number=int(input(\"enter a number to find square root\"))\n",
    "if number<0:\n",
    "    print(\"enter a valid number\")\n",
    "else:\n",
    "    print(\"sqare root of {} is {}\".format(number,math.sqrt(number)))"
   ]
  },
  {
   "cell_type": "code",
   "execution_count": 14,
   "metadata": {},
   "outputs": [
    {
     "ename": "SyntaxError",
     "evalue": "unexpected EOF while parsing (<ipython-input-14-f8507527305b>, line 8)",
     "output_type": "error",
     "traceback": [
      "\u001b[1;36m  File \u001b[1;32m\"<ipython-input-14-f8507527305b>\"\u001b[1;36m, line \u001b[1;32m8\u001b[0m\n\u001b[1;33m    print(\"Area of triangle is: {0} \".format(area)\u001b[0m\n\u001b[1;37m                                                  ^\u001b[0m\n\u001b[1;31mSyntaxError\u001b[0m\u001b[1;31m:\u001b[0m unexpected EOF while parsing\n"
     ]
    }
   ],
   "source": [
    "#area of triangle\n",
    "import math\n",
    "a=float(input(\"enter first side\"))\n",
    "b=float(input(\"enter second side\"))\n",
    "c=float(input(\"enter third side\"))\n",
    "s=(a+b+c)/2\n",
    "area=math.sqrt(s*(s-a)*(s-b)*(s-c))\n",
    "print(\"Area of triangle is: {0} \".format(area)"
   ]
  },
  {
   "cell_type": "code",
   "execution_count": null,
   "metadata": {
    "collapsed": true
   },
   "outputs": [],
   "source": [
    "#program to solve quadratic equation"
   ]
  },
  {
   "cell_type": "code",
   "execution_count": 20,
   "metadata": {},
   "outputs": [
    {
     "name": "stdout",
     "output_type": "stream",
     "text": [
      "enter first number45\n",
      "enter second number35\n",
      "the value of x after swapping:35\n",
      "the value of y after swapping:45\n"
     ]
    }
   ],
   "source": [
    "#program to swap two variables\n",
    "x=int(input(\"enter first number\"))\n",
    "y=int(input(\"enter second number\"))\n",
    "x,y=y,x\n",
    "print(\"the value of x after swapping:{}\".format(x))\n",
    "print(\"the value of y after swapping:{}\".format(y))"
   ]
  },
  {
   "cell_type": "code",
   "execution_count": null,
   "metadata": {},
   "outputs": [
    {
     "name": "stdout",
     "output_type": "stream",
     "text": [
      "22\n",
      "do you want to continue (y/n):y\n"
     ]
    }
   ],
   "source": [
    "#program to generate a random number\n",
    "from random import randrange\n",
    "num1=randrange(1,100)\n",
    "print(num1)\n",
    "ch=input(\"do you want to continue (y/n):\".strip().lower())\n",
    "while(ch):\n",
    "    if ch=='y' or ch=='yes':\n",
    "         continue\n",
    "    else:\n",
    "        break"
   ]
  },
  {
   "cell_type": "code",
   "execution_count": 1,
   "metadata": {},
   "outputs": [
    {
     "name": "stdout",
     "output_type": "stream",
     "text": [
      "enter value im km4.5\n",
      "distance in km 4.5 to m is 4500.0\n"
     ]
    }
   ],
   "source": [
    "#program to convert km to m\n",
    "distance=float(input(\"enter value im km\"))\n",
    "meter=1000*distance\n",
    "print(\"distance in km {} to m is {}\".format(distance,meter))"
   ]
  },
  {
   "cell_type": "code",
   "execution_count": 2,
   "metadata": {},
   "outputs": [
    {
     "name": "stdout",
     "output_type": "stream",
     "text": [
      "enter temperature in terms of celcis:  45\n",
      "temperature in celcius is 45.0 and in fahrenheit is 113.0\n"
     ]
    }
   ],
   "source": [
    "#program to convert celsius to fahrenhet\n",
    "cel=float(input(\"enter temperature in terms of celcis:  \"))\n",
    "fahrenheit=(1.8*cel)+32\n",
    "print(\"temperature in celcius is {} and in fahrenheit is {}\".format(cel,fahrenheit))"
   ]
  },
  {
   "cell_type": "code",
   "execution_count": 12,
   "metadata": {},
   "outputs": [
    {
     "name": "stdout",
     "output_type": "stream",
     "text": [
      "simply enter a number just to check it is positive or negative45\n",
      "you enterd a number: 45.0 which is a positive number\n"
     ]
    }
   ],
   "source": [
    "#python program to check no. is positive negative or zero\n",
    "num=float(input(\"simply enter a number just to check it is positive or negative\"))\n",
    "if num==0:\n",
    "    print(\"you enterd a number:{0} which is equal to zero\".format(num))\n",
    "elif num<0:\n",
    "     print(\"you enterd a number: {0} which is a negative number\".format(num))\n",
    "else:\n",
    "       print(\"you enterd a number: {0} which is a positive number\".format(num))  \n",
    "    "
   ]
  },
  {
   "cell_type": "code",
   "execution_count": 18,
   "metadata": {},
   "outputs": [
    {
     "name": "stdout",
     "output_type": "stream",
     "text": [
      "enter a year interms of XXXX just to check it is a leap year or not1700\n"
     ]
    },
    {
     "ename": "SyntaxError",
     "evalue": "'return' outside function (<ipython-input-18-ca0cfef126f2>, line 4)",
     "output_type": "error",
     "traceback": [
      "\u001b[1;36m  File \u001b[1;32m\"<ipython-input-18-ca0cfef126f2>\"\u001b[1;36m, line \u001b[1;32m4\u001b[0m\n\u001b[1;33m    return true\u001b[0m\n\u001b[1;37m    ^\u001b[0m\n\u001b[1;31mSyntaxError\u001b[0m\u001b[1;31m:\u001b[0m 'return' outside function\n"
     ]
    }
   ],
   "source": [
    "#program to check leap year\n",
    "year=int(input(\"enter a year interms of XXXX just to check it is a leap year or not\"))\n",
    "if(year%400)==0:\n",
    "    return true\n",
    "if(year%100)==0:\n",
    "    return false\n",
    "if(year%4)==0:\n",
    "    return true"
   ]
  },
  {
   "cell_type": "code",
   "execution_count": 12,
   "metadata": {},
   "outputs": [
    {
     "name": "stdout",
     "output_type": "stream",
     "text": [
      "enter a year interms of XXXX just to check it is a leap year or not2000\n",
      "2000 is a leap year\n"
     ]
    }
   ],
   "source": [
    "year=int(input(\"enter a year interms of XXXX just to check it is a leap year or not\"))\n",
    "if(year%4)==0:\n",
    "    if(year%100)==0:\n",
    "        if(year%400)==0:\n",
    "            print(\"{0} is a leap year\".format(year))\n",
    "else:\n",
    "    print(\"{0} is not a leap year\".format(year))\n",
    "    "
   ]
  },
  {
   "cell_type": "code",
   "execution_count": 4,
   "metadata": {},
   "outputs": [
    {
     "name": "stdout",
     "output_type": "stream",
     "text": [
      "eneter a number to check it is prime or not127\n",
      "number is prime\n"
     ]
    }
   ],
   "source": [
    "#program to find a number is prime or not\n",
    "num=int(input(\"eneter a number to check it is prime or not\"))\n",
    "check=2\n",
    "while check<=num // 2+1:\n",
    "    if num%check==0:\n",
    "        print(\"number is not prime\")\n",
    "        break\n",
    "    elif check==num //2+1:\n",
    "        print(\"number is prime\")\n",
    "        \n",
    "    check=check+1"
   ]
  },
  {
   "cell_type": "code",
   "execution_count": 9,
   "metadata": {},
   "outputs": [
    {
     "name": "stdout",
     "output_type": "stream",
     "text": [
      "eneter a number to check it is prime or not121\n",
      "number is not prime\n"
     ]
    }
   ],
   "source": [
    "#program to find a number is prime or not\n",
    "import math\n",
    "num=int(input(\"eneter a number to check it is prime or not\"))\n",
    "sq=int(math.sqrt(num))\n",
    "check=2\n",
    "while check<=(sq+1):\n",
    "    if num%check==0:\n",
    "        print(\"number is not prime\")\n",
    "        break\n",
    "    elif check==(sq+1):\n",
    "        print(\"number is prime\")\n",
    "        \n",
    "    check=check+1"
   ]
  },
  {
   "cell_type": "code",
   "execution_count": 1,
   "metadata": {
    "collapsed": true
   },
   "outputs": [],
   "source": [
    "#program to find a number is palindrome or not\n"
   ]
  },
  {
   "cell_type": "code",
   "execution_count": null,
   "metadata": {},
   "outputs": [
    {
     "name": "stdout",
     "output_type": "stream",
     "text": [
      "enter your account number1001\n",
      "welcome to SBI Bank ,we care for you\n",
      "Select an option from our menu\n",
      "option 1.: Withdrawl \n",
      "option 2.: Deposit \n",
      "option 3.: Check Balance \n",
      "option 4.: exit \n",
      "enter your account number3\n"
     ]
    }
   ],
   "source": [
    "bank={\n",
    "    'user':['ram','sam','vijay'],\n",
    "    'Account number':[1001,1002,1003],\n",
    "    'Password':['**','***','****'],\n",
    "    'Balance':[10000.23,20000,50000]\n",
    "}\n",
    "while True:\n",
    "    acc=int(input(\"enter your account number\"))\n",
    "    if acc in bank['Account number']:\n",
    "    \n",
    "        print(\"welcome to SBI Bank ,we care for you\")\n",
    "        print(\"Select an option from our menu\")\n",
    "        print(\"option 1.: Withdrawl \")\n",
    "        print(\"option 2.: Deposit \")\n",
    "        print(\"option 3.: Check Balance \")\n",
    "        print(\"option 4.: exit \")\n",
    "option=int(input(\"Choose an option\"))\n",
    "if option==1:\n",
    "    withdrawl=int(input(\"how much do you want to withdrawl?:\"))\n",
    "    balance=balance-withdrawl\n",
    "    print('new balance:',balance)\n",
    "elif option==2:\n",
    "    Deposit=int(input(\"how much do you want to withdrawl?:\"))\n",
    "    balance=balance+Deposit\n",
    "    print('new balance:',balance)\n",
    "elif option==3:\n",
    "    print('balance:',balance)\n",
    "elif option==4:\n",
    "     ch=input(\"do you want to continue(y/n) :\").strip().lower()\n",
    "     if ch=='y' or ch=='yes':\n",
    "         pass\n",
    "     else:\n",
    "        print(\"Thanks for using our services\")\n",
    "        break"
   ]
  },
  {
   "cell_type": "code",
   "execution_count": null,
   "metadata": {
    "collapsed": true
   },
   "outputs": [],
   "source": []
  }
 ],
 "metadata": {
  "kernelspec": {
   "display_name": "Python 3",
   "language": "python",
   "name": "python3"
  },
  "language_info": {
   "codemirror_mode": {
    "name": "ipython",
    "version": 3
   },
   "file_extension": ".py",
   "mimetype": "text/x-python",
   "name": "python",
   "nbconvert_exporter": "python",
   "pygments_lexer": "ipython3",
   "version": "3.6.3"
  }
 },
 "nbformat": 4,
 "nbformat_minor": 2
}
