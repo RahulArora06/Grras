{
 "cells": [
  {
   "cell_type": "code",
   "execution_count": 2,
   "metadata": {},
   "outputs": [
    {
     "name": "stdout",
     "output_type": "stream",
     "text": [
      "file successfully created\n"
     ]
    }
   ],
   "source": [
    "from json import load,dump\n",
    "f=open('bank.db','w')\n",
    "bank={\n",
    "    'User':['ram','sam','prem'],\n",
    "    'Account number':[1001,1002,1003],\n",
    "    'Password':['redhat','root','password'],\n",
    "    'Balance':[10000.23,20000,50000]\n",
    "}\n",
    "dump(bank,f)\n",
    "f.close()\n",
    "print(\"file successfully created\")"
   ]
  },
  {
   "cell_type": "code",
   "execution_count": 1,
   "metadata": {},
   "outputs": [
    {
     "ename": "SyntaxError",
     "evalue": "invalid syntax (<ipython-input-1-f26f056c7713>, line 5)",
     "output_type": "error",
     "traceback": [
      "\u001b[1;36m  File \u001b[1;32m\"<ipython-input-1-f26f056c7713>\"\u001b[1;36m, line \u001b[1;32m5\u001b[0m\n\u001b[1;33m    for key value in data.items\u001b[0m\n\u001b[1;37m                ^\u001b[0m\n\u001b[1;31mSyntaxError\u001b[0m\u001b[1;31m:\u001b[0m invalid syntax\n"
     ]
    }
   ],
   "source": [
    "from json import load,dump\n",
    "f=open('bank.db')\n",
    "data=load(f)\n",
    "f.close()\n",
    "for key value in data.items"
   ]
  },
  {
   "cell_type": "code",
   "execution_count": null,
   "metadata": {
    "collapsed": true
   },
   "outputs": [],
   "source": []
  }
 ],
 "metadata": {
  "kernelspec": {
   "display_name": "Python 3",
   "language": "python",
   "name": "python3"
  },
  "language_info": {
   "codemirror_mode": {
    "name": "ipython",
    "version": 3
   },
   "file_extension": ".py",
   "mimetype": "text/x-python",
   "name": "python",
   "nbconvert_exporter": "python",
   "pygments_lexer": "ipython3",
   "version": "3.6.3"
  }
 },
 "nbformat": 4,
 "nbformat_minor": 2
}
