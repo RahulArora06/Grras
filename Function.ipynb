{
 "cells": [
  {
   "cell_type": "markdown",
   "metadata": {},
   "source": [
    "1. set of statements that are given to complete a specific task.\n",
    "2. when we call a function it will definitely returns something.\n",
    "3. def function_name(arguements):\n",
    "    statement1\n",
    "    statement2\n",
    "    return"
   ]
  },
  {
   "cell_type": "code",
   "execution_count": 2,
   "metadata": {},
   "outputs": [
    {
     "name": "stdout",
     "output_type": "stream",
     "text": [
      "enter your name:  rahul\n",
      "welcome rahul to the python function.\n"
     ]
    }
   ],
   "source": [
    "def hello():\n",
    "    name=input(\"enter your name:  \")\n",
    "    print(\"welcome {} to the python function.\".format(name))\n",
    "hello()"
   ]
  },
  {
   "cell_type": "code",
   "execution_count": 3,
   "metadata": {},
   "outputs": [
    {
     "name": "stdout",
     "output_type": "stream",
     "text": [
      "enter your name:  rahul\n",
      "welcome rahul to the python function.\n",
      "None\n"
     ]
    }
   ],
   "source": [
    "x=hello()\n",
    "print(x)"
   ]
  },
  {
   "cell_type": "code",
   "execution_count": 5,
   "metadata": {
    "collapsed": true
   },
   "outputs": [],
   "source": [
    "def calc(x,y,ch):\n",
    "    ch=ch.strip()\n",
    "    if ch== '+':\n",
    "        return x+y\n",
    "    elif ch== '-':\n",
    "        return x-y\n",
    "    elif ch=='*':\n",
    "        return x*y\n",
    "    elif ch== '/':\n",
    "        if y==0:\n",
    "            return invalid\n",
    "        else:\n",
    "            return x/y"
   ]
  },
  {
   "cell_type": "code",
   "execution_count": 7,
   "metadata": {},
   "outputs": [
    {
     "name": "stdout",
     "output_type": "stream",
     "text": [
      "72\n"
     ]
    }
   ],
   "source": [
    "r=calc(9,8,'*')\n",
    "print(r)"
   ]
  },
  {
   "cell_type": "code",
   "execution_count": 8,
   "metadata": {
    "collapsed": true
   },
   "outputs": [],
   "source": [
    "def convert_Dict(p,q,r,s):\n",
    "    l=[p,q,r,s]\n",
    "    d=dict(l)\n",
    "    return d"
   ]
  },
  {
   "cell_type": "code",
   "execution_count": null,
   "metadata": {},
   "outputs": [
    {
     "name": "stdout",
     "output_type": "stream",
     "text": [
      "give input as key=value: \n",
      "\n",
      "\n"
     ]
    }
   ],
   "source": [
    "print(\"give input as key=value: \\n\\n\")\n",
    "e1=input(\"1st entry :\").split('=')\n",
    "e2=input(\"2nd entry :\").split('=')\n",
    "e3=input(\"3rd entry :\").split('=')\n",
    "e4=input(\"4rth entry :\").split('=')\n",
    "print"
   ]
  },
  {
   "cell_type": "code",
   "execution_count": null,
   "metadata": {
    "collapsed": true
   },
   "outputs": [],
   "source": [
    "def is_leap(year):\n",
    "    leap = False\n",
    "if N in range(1900,10**5):\n",
    "    continue\n",
    "elif(year%4)==0:\n",
    "    if(year%100)==0:\n",
    "        if(year%400)==0:\n",
    "            print(\"{0} is a leap year\".format(year))\n",
    "else:\n",
    "    print(\"{0} is not a leap year\".format(year))\n",
    "    return leap"
   ]
  },
  {
   "cell_type": "code",
   "execution_count": null,
   "metadata": {
    "collapsed": true
   },
   "outputs": [],
   "source": [
    "year=int(input)\n",
    "print(is_leap(year))"
   ]
  },
  {
   "cell_type": "code",
   "execution_count": 3,
   "metadata": {
    "collapsed": true
   },
   "outputs": [],
   "source": [
    "def count_Digits(num):\n",
    "    count=0\n",
    "    while num:\n",
    "        num = num // 10\n",
    "        count=count+1\n",
    "    return count\n",
    "        "
   ]
  },
  {
   "cell_type": "code",
   "execution_count": 4,
   "metadata": {},
   "outputs": [
    {
     "name": "stdout",
     "output_type": "stream",
     "text": [
      "Enter Number :  165\n",
      "Number of Digits=  3\n"
     ]
    }
   ],
   "source": [
    "n_digit=count_Digits(int(input(\"Enter Number :  \")))\n",
    "print(\"Number of Digits= \",n_digit)"
   ]
  },
  {
   "cell_type": "code",
   "execution_count": 4,
   "metadata": {
    "collapsed": true
   },
   "outputs": [],
   "source": [
    "def check_Armstrong(num):\n",
    "    p = count_Digits(num)\n",
    "    copy_num=num\n",
    "    s=0\n",
    "    while num:\n",
    "        r=num%10\n",
    "        s=s+r**p\n",
    "        num=num//10\n",
    "    if s==copy_num:\n",
    "        return True\n",
    "    else:\n",
    "        return False"
   ]
  },
  {
   "cell_type": "code",
   "execution_count": 6,
   "metadata": {},
   "outputs": [
    {
     "name": "stdout",
     "output_type": "stream",
     "text": [
      "Enter number: 371\n"
     ]
    },
    {
     "data": {
      "text/plain": [
       "True"
      ]
     },
     "execution_count": 6,
     "metadata": {},
     "output_type": "execute_result"
    }
   ],
   "source": [
    "check_Armstrong(int(input(\"Enter number: \")))"
   ]
  },
  {
   "cell_type": "code",
   "execution_count": 8,
   "metadata": {},
   "outputs": [
    {
     "name": "stdout",
     "output_type": "stream",
     "text": [
      "Before function calling x = 10\n",
      "In function value=  15\n",
      "After function calling x =  15\n"
     ]
    }
   ],
   "source": [
    "x=10\n",
    "def change():\n",
    "    global x\n",
    "    x=x+5\n",
    "    print(\"In function value= \",x)\n",
    "print(\"Before function calling x =\",x)\n",
    "change()\n",
    "print(\"After function calling x = \",x)"
   ]
  },
  {
   "cell_type": "code",
   "execution_count": 9,
   "metadata": {
    "collapsed": true
   },
   "outputs": [],
   "source": [
    "add=lambda x,y:x+y"
   ]
  },
  {
   "cell_type": "code",
   "execution_count": 10,
   "metadata": {},
   "outputs": [
    {
     "name": "stdout",
     "output_type": "stream",
     "text": [
      "13\n"
     ]
    }
   ],
   "source": [
    "r=add(6,7)\n",
    "print(r)"
   ]
  },
  {
   "cell_type": "code",
   "execution_count": 11,
   "metadata": {
    "collapsed": true
   },
   "outputs": [],
   "source": [
    "great=lambda p,q: q if q>p else p"
   ]
  },
  {
   "cell_type": "code",
   "execution_count": 12,
   "metadata": {},
   "outputs": [
    {
     "name": "stdout",
     "output_type": "stream",
     "text": [
      "33\n"
     ]
    }
   ],
   "source": [
    "print(great(5,33))"
   ]
  },
  {
   "cell_type": "code",
   "execution_count": 8,
   "metadata": {
    "collapsed": true
   },
   "outputs": [],
   "source": [
    "factorial=lambda num:num*factorial(num-1) if num>0 else 1"
   ]
  },
  {
   "cell_type": "code",
   "execution_count": 9,
   "metadata": {},
   "outputs": [
    {
     "name": "stdout",
     "output_type": "stream",
     "text": [
      "120\n"
     ]
    }
   ],
   "source": [
    "print(factorial(5))"
   ]
  },
  {
   "cell_type": "code",
   "execution_count": 10,
   "metadata": {},
   "outputs": [
    {
     "name": "stdout",
     "output_type": "stream",
     "text": [
      "1 2 3 4 5 6 7 8 9\n",
      "['1', '2', '3', '4', '5', '6', '7', '8', '9']\n",
      "[1, 2, 3, 4, 5, 6, 7, 8, 9]\n"
     ]
    }
   ],
   "source": [
    "x=input().split()\n",
    "n=[]\n",
    "for var in x:\n",
    "    n.append(int(var))\n",
    "print(x)\n",
    "print(n)"
   ]
  },
  {
   "cell_type": "code",
   "execution_count": 11,
   "metadata": {},
   "outputs": [
    {
     "name": "stdout",
     "output_type": "stream",
     "text": [
      "1 2 3 4 5 6 7 8 9\n",
      "[1, 2, 3, 4, 5, 6, 7, 8, 9]\n"
     ]
    }
   ],
   "source": [
    "x=input().split()\n",
    "y=map(int,x)\n",
    "y=list(y)\n",
    "print(y)"
   ]
  },
  {
   "cell_type": "code",
   "execution_count": 12,
   "metadata": {},
   "outputs": [
    {
     "name": "stdout",
     "output_type": "stream",
     "text": [
      "1 2 3 4 5 6 7 8 9\n",
      "[1, 2, 3, 4, 5, 6, 7, 8, 9]\n"
     ]
    }
   ],
   "source": [
    "x=list(map(int,input().split()))\n",
    "print(x)"
   ]
  },
  {
   "cell_type": "code",
   "execution_count": null,
   "metadata": {
    "collapsed": true
   },
   "outputs": [],
   "source": []
  },
  {
   "cell_type": "code",
   "execution_count": 18,
   "metadata": {},
   "outputs": [
    {
     "name": "stdout",
     "output_type": "stream",
     "text": [
      "2 3 4\n",
      "[True, False, True]\n"
     ]
    }
   ],
   "source": [
    "x=list(map(int,input().split()))\n",
    "print(list(map(lambda x:True if x%2==0 else False,x)))"
   ]
  },
  {
   "cell_type": "code",
   "execution_count": 17,
   "metadata": {},
   "outputs": [
    {
     "name": "stdout",
     "output_type": "stream",
     "text": [
      "2 3 5 4\n",
      "True False False True\n"
     ]
    }
   ],
   "source": [
    "x=list(map(int,input().split()))\n",
    "print(*list(map(lambda num:False if num%2 else True,x)))"
   ]
  },
  {
   "cell_type": "code",
   "execution_count": 19,
   "metadata": {},
   "outputs": [
    {
     "name": "stdout",
     "output_type": "stream",
     "text": [
      "2 4 6 8 10\n"
     ]
    }
   ],
   "source": [
    "l=[1,2,3,4,5,6,7,8,9,10]\n",
    "r=filter(lambda x:True if x%2==0 else False,l)\n",
    "print(*r)"
   ]
  },
  {
   "cell_type": "code",
   "execution_count": null,
   "metadata": {
    "collapsed": true
   },
   "outputs": [],
   "source": []
  }
 ],
 "metadata": {
  "kernelspec": {
   "display_name": "Python 3",
   "language": "python",
   "name": "python3"
  },
  "language_info": {
   "codemirror_mode": {
    "name": "ipython",
    "version": 3
   },
   "file_extension": ".py",
   "mimetype": "text/x-python",
   "name": "python",
   "nbconvert_exporter": "python",
   "pygments_lexer": "ipython3",
   "version": "3.6.3"
  }
 },
 "nbformat": 4,
 "nbformat_minor": 2
}
